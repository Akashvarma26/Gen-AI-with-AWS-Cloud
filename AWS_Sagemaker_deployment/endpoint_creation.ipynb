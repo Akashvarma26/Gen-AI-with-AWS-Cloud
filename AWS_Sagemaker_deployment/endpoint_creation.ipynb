{
 "cells": [
  {
   "cell_type": "code",
   "execution_count": null,
   "id": "7eb6b546-e98f-43df-9bb5-585243f2f690",
   "metadata": {},
   "outputs": [],
   "source": [
    "!pip install sagemaker -U"
   ]
  },
  {
   "cell_type": "code",
   "execution_count": null,
   "id": "faeb602a-85c3-4fa8-ad77-493041a064da",
   "metadata": {},
   "outputs": [],
   "source": [
    "import sagemaker\n",
    "import boto3\n",
    "sess=sagemaker.Session()\n",
    "\n",
    "# create a bucket to store data,model files,etc\n",
    "sagemaker_bucket=None\n",
    "if sagemaker_bucket is None and sess is not None:\n",
    "    sagemaker_bucket=sess.default_bucket()\n",
    "\n",
    "# Role Management\n",
    "try:\n",
    "    role=sagemaker.get_execution_role()\n",
    "except ValueError:\n",
    "    iam=boto3.client(\"iam\")\n",
    "    role=iam.get_role(RoleName='sagemaker_execution_role')['Role']['Arn']\n",
    "\n",
    "session_sagemaker=sagemaker.Session(default_bucket=sagemaker_bucket)\n",
    "print(f\"sagemaker role ARN: {role}\")\n",
    "print(f\"sagemaker session region:{sess.boto_region_name}\")"
   ]
  },
  {
   "cell_type": "code",
   "execution_count": 6,
   "id": "8d18194f-e391-47a7-8f81-b29fa188c088",
   "metadata": {},
   "outputs": [],
   "source": [
    "from sagemaker.huggingface.model import HuggingFaceModel\n",
    "\n",
    "# Hub configuration\n",
    "hub={\n",
    "    'HF_MODEL_ID':\"distilbert-base-uncase-distilled-squad\",\n",
    "    'HF_TASK':\"question-answering\"\n",
    "}\n",
    "\n",
    "# create HF Model class\n",
    "hf_model=HuggingFaceModel(\n",
    "    env=hub,\n",
    "    role=role,\n",
    "    transformers_version=\"4.26\",\n",
    "    pytorch_version=\"1.13\",\n",
    "    py_version='py39'\n",
    ")"
   ]
  },
  {
   "cell_type": "code",
   "execution_count": null,
   "id": "dd197f1c-6414-408a-8a19-3c29db0c7914",
   "metadata": {},
   "outputs": [],
   "source": [
    "# Depoly it to sagemaker inference\n",
    "predictor=hf_model.deploy(\n",
    "    initial_instance_count=1,\n",
    "    instance_type=\"ml.m5.xlarge\"\n",
    ")\n",
    "\n",
    "# Input and context\n",
    "data={\n",
    "\"inputs\":{\n",
    "    \"question\":\"What is used as an instance?\",\n",
    "    \"context\":\"My name is Akash, I live in Mumbai. This model is used with sagemaker. The model is using ml.m5.xlarge instance to run.\"\n",
    "}\n",
    "}\n",
    "\n",
    "# request\n",
    "predictor.predict(data)"
   ]
  },
  {
   "cell_type": "code",
   "execution_count": null,
   "id": "33db9d6b-77fa-4b82-b5b6-ae999d6aacbc",
   "metadata": {},
   "outputs": [],
   "source": [
    "predictor.predict(data)"
   ]
  }
 ],
 "metadata": {
  "kernelspec": {
   "display_name": "Python 3 (ipykernel)",
   "language": "python",
   "name": "python3"
  },
  "language_info": {
   "codemirror_mode": {
    "name": "ipython",
    "version": 3
   },
   "file_extension": ".py",
   "mimetype": "text/x-python",
   "name": "python",
   "nbconvert_exporter": "python",
   "pygments_lexer": "ipython3",
   "version": "3.11.11"
  }
 },
 "nbformat": 4,
 "nbformat_minor": 5
}
